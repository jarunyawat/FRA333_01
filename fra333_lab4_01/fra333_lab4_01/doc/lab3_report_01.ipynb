{
 "cells": [
  {
   "cell_type": "markdown",
   "metadata": {},
   "source": [
    "# LAB3 report\n",
    "ใน lab นี้ ผู้ทำ lab จะต้องส่งข้อมูลจาก imu ที่อยู่บน Arduino โดยใช้ xicro_pkg เพื่อสื่อสารกับ ros2 โดยใช้ค่า imu ในการควบคุม serial manipulator"
   ]
  },
  {
   "cell_type": "markdown",
   "metadata": {},
   "source": [
    "## ros2control parameter\n",
    "ในการควบคุม serial manipulator เราจะใช้ velocity_controllers/JointGroupVelocityController ในการควบคุมความเร็วของแต่ละ joint โดย command interface คือ velocity และ state interface คือ position และ velocity เพื่อทำ feedback control"
   ]
  },
  {
   "cell_type": "markdown",
   "metadata": {},
   "source": [
    "<img src=\"controller_setup.png\">"
   ]
  },
  {
   "cell_type": "markdown",
   "metadata": {},
   "source": [
    "และใส่ Gazebo plugin ของ ros2control ใน xacro"
   ]
  },
  {
   "cell_type": "markdown",
   "metadata": {},
   "source": [
    "<img src=\"xacro_ros2control.png\">"
   ]
  },
  {
   "cell_type": "markdown",
   "metadata": {},
   "source": [
    "## IMU calibration\n",
    "สร้าง node calibration_backend ในการ subscribe ค่าจาก /Imu_arduino และใช้ Action ในการเก็บข้อมูลหา covariance ของ sensor ซึ่งใช้ Multiexecutor ในการทำให้ subscriber และ Action callback สามารถใช้งานพร้อมกันได้ โดยการแบ่งให้อยู่คนละ callback group"
   ]
  },
  {
   "cell_type": "markdown",
   "metadata": {},
   "source": [
    "<img src=\"imu_calibration_init.png\">"
   ]
  },
  {
   "cell_type": "markdown",
   "metadata": {},
   "source": [
    "โดยเราจะเก็บค่าที่ subscribe เข้ามาใส่ในตัวแปรและให้ Action ระหว่าง execute goal ดึงค่าไปเก็บ"
   ]
  },
  {
   "cell_type": "markdown",
   "metadata": {},
   "source": [
    "<img src=\"imu_calibrate_sub.png\">"
   ]
  },
  {
   "cell_type": "markdown",
   "metadata": {},
   "source": [
    "โดยรหว่าง execute goal จะเก็บค่าที่ได้จาก imu เข้า list จากนั้นจะหา covariance และส่งกลับไป"
   ]
  },
  {
   "cell_type": "markdown",
   "metadata": {},
   "source": [
    "<img src=\"imu_calibrate_result.png\">"
   ]
  },
  {
   "cell_type": "markdown",
   "metadata": {},
   "source": [
    "โครงสร้างของ Action"
   ]
  },
  {
   "cell_type": "markdown",
   "metadata": {},
   "source": [
    "<img src=\"action_structure.png\">"
   ]
  },
  {
   "cell_type": "markdown",
   "metadata": {},
   "source": [
    "## trajectory_gen\n",
    "เป็น node ที่เมื่อเริ่มทำงานจะส่ง goal ไปที่ IMU calibration เพื่อหา covaraince และส่งเป็น result กลับมา จากนั้นจะ publish covariance และค่า angular velocity, linear acceleration ไปที่ /imu/data_raw ของ node complementary_filter_node เพื่อทำการประมาณค่า orientation และจากนั้นจะ subscibe ค่าที่ถูกประมาณจาก /imu/data และนำค่าที่ได้แปลงให้อยู่ในรูป roll pitch yaw แบบ extrensic โดยใช้ scipy"
   ]
  },
  {
   "cell_type": "markdown",
   "metadata": {},
   "source": [
    "<img src=\"trajec_init.png\">"
   ]
  },
  {
   "cell_type": "markdown",
   "metadata": {},
   "source": [
    "หลังจาก init node แล้วเราจะส่ง Goal ให้กับ IMU calibration เพื่อรัยค่า covariance"
   ]
  },
  {
   "cell_type": "markdown",
   "metadata": {},
   "source": [
    "<img src=\"sendgoal.png\">"
   ]
  },
  {
   "cell_type": "markdown",
   "metadata": {},
   "source": [
    "จากนั้นนำ covariance ใส่ให้กับ msg ที่ได้จาก arduino ก่อนส่งไปประมาณค่าที่ complementary filter และรับค่า linear acceleration กลับมาเพื่อทำ joystick ควบคุมทิศทาง end effector"
   ]
  },
  {
   "cell_type": "markdown",
   "metadata": {},
   "source": [
    "<img src=\"imu_filter.png\">"
   ]
  },
  {
   "cell_type": "markdown",
   "metadata": {},
   "source": [
    "## Xicro read IMU raw node\n",
    "เราได้ใช้ Xicro ในการสร้างการสื่อสารระหว่าง ros2 และ arduino โดยค่าที่ส่งมาจะเป็นค่า orientation ในรูปแบบ unit quaternion, angular vocity และ linear acceleration โดยเราใช้ MadgwickAHRS ในการประมาณค่า orientation จากค่า angular vocity และ linear acceleration ใน arduino ก่อนส่งมา"
   ]
  },
  {
   "cell_type": "markdown",
   "metadata": {},
   "source": [
    "<img src=\"arduino_xicro.png\">"
   ]
  },
  {
   "cell_type": "markdown",
   "metadata": {},
   "source": [
    "## Algorithm X\n",
    "เราใช้ linear acceleration ที่ได้มาในการควบคุมให้ joint เคลื่อนที่ โดยในขั้นตอนแรกหุ่นยนต์จะนำ feedback จาก state interface ไปใช้ในการ set home เมื่อ set home เรียบร้อยจึงจะสามารถควบคุมได้ โดย linear acceleration จะกำหนดทิศทางที่ end effector จะเคลื่อนที่ โดยคำนวณ jacobian และหาความเร็วเชิงมุมของ joint\n",
    "โดยหุ่นยนต์จะรอให้การ calibration เสร็จสิ้น จากนั้นหุ่นยนต์จะเคลื่อที่ไปตำแหน่งเริ่มต้นเพื่อให้หลุดจาก sigularity จากนั้นถึงจะใช้ IMU ควบคุมได้"
   ]
  },
  {
   "cell_type": "markdown",
   "metadata": {},
   "source": [
    "<img src='end_effector_control.png'>"
   ]
  },
  {
   "cell_type": "markdown",
   "metadata": {},
   "source": [
    "คำนวณ Rotation matrix จากตาราง DH parameter สำหรับ Jacobian"
   ]
  },
  {
   "cell_type": "markdown",
   "metadata": {},
   "source": [
    "<img src='rotationfromDH.png'>"
   ]
  },
  {
   "cell_type": "markdown",
   "metadata": {},
   "source": [
    "คำนวณ Jacobian"
   ]
  },
  {
   "cell_type": "markdown",
   "metadata": {},
   "source": [
    "<img src='jacobianmatrix.png'>"
   ]
  },
  {
   "cell_type": "markdown",
   "metadata": {},
   "source": [
    "## วิธีการทดลอง\n",
    "พิมพ์คำสั่งนี้เพื่อเริ่มการอ่านค่า arduino<br>\n",
    "ros2 run xicro_pkg xicro_node_read_raw_imu_ID_3_arduino.py<br>\n",
    "จากนั้นเปิดหน้าต่าง terminal ใหม่แล้วพิมพ์คำสั่งนี้เพื่อเริ่ม simulation การควบคุม serial manipulator<br>\n",
    "ros2 launch fra333_lab3_01 lab3_kinematics.launch.py"
   ]
  },
  {
   "cell_type": "markdown",
   "metadata": {},
   "source": [
    "<img src=\"showcase.png\">"
   ]
  },
  {
   "cell_type": "markdown",
   "metadata": {},
   "source": [
    "โครงสร้างของ node ต่างๆ"
   ]
  },
  {
   "cell_type": "markdown",
   "metadata": {},
   "source": [
    "<img src='node_system.jpeg'>"
   ]
  }
 ],
 "metadata": {
  "kernelspec": {
   "display_name": "Python 3.8.10 64-bit",
   "language": "python",
   "name": "python3"
  },
  "language_info": {
   "name": "python",
   "version": "3.8.10"
  },
  "orig_nbformat": 4,
  "vscode": {
   "interpreter": {
    "hash": "916dbcbb3f70747c44a77c7bcd40155683ae19c65e1c03b4aa3499c5328201f1"
   }
  }
 },
 "nbformat": 4,
 "nbformat_minor": 2
}
