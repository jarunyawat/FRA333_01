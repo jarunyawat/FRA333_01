{
 "cells": [
  {
   "attachments": {},
   "cell_type": "markdown",
   "metadata": {},
   "source": [
    "# Lab 4 report"
   ]
  },
  {
   "attachments": {},
   "cell_type": "markdown",
   "metadata": {},
   "source": [
    "## Setting up velocity controllers"
   ]
  },
  {
   "attachments": {},
   "cell_type": "markdown",
   "metadata": {},
   "source": [
    "ผู้จัดทำได้ตั้งค่า velocity controller โดยใช้ velocity_controllers/JointGroupVelocityController โดยมี command interface ซึ่งเป็น input ของระบบเป็น velocity และตั้งค่า state interface ซึ่งเป็น feedback ของแต่ละ joint ได้แก่ position, velocity"
   ]
  },
  {
   "attachments": {},
   "cell_type": "markdown",
   "metadata": {},
   "source": [
    "<img src=\"pic/ros2control_param.png\" width=\"500\">"
   ]
  },
  {
   "attachments": {},
   "cell_type": "markdown",
   "metadata": {},
   "source": [
    "จากนั้นจึงตั้งค่า ros2control ในไฟล์ urdf"
   ]
  },
  {
   "attachments": {},
   "cell_type": "markdown",
   "metadata": {},
   "source": [
    "<img src=\"pic/ros2control_gazebo.png\">"
   ]
  },
  {
   "attachments": {},
   "cell_type": "markdown",
   "metadata": {},
   "source": [
    "## Developing a tracker"
   ]
  },
  {
   "attachments": {},
   "cell_type": "markdown",
   "metadata": {},
   "source": [
    "สร้าง tracker.py โดย subscribe topic ได้แก่ /dynamic_joint_states เพื่อนำ feedback ของแต่ละ joint มาใช้ในหาร control"
   ]
  },
  {
   "attachments": {},
   "cell_type": "markdown",
   "metadata": {},
   "source": [
    "<img src=\"pic/dynamic_joints_state.png\">"
   ]
  },
  {
   "attachments": {},
   "cell_type": "markdown",
   "metadata": {},
   "source": [
    "โดยใน tracker.py ผู้จัดทำได้สร้าง method ในการดึงค่า position feedback จาก dynamic_joint_states และสร้าง jacobian matrix"
   ]
  },
  {
   "attachments": {},
   "cell_type": "markdown",
   "metadata": {},
   "source": [
    "<img src=\"pic/joint_feedback.png\">"
   ]
  },
  {
   "attachments": {},
   "cell_type": "markdown",
   "metadata": {},
   "source": [
    "โดยระบบ control จะใช้ parameter ที่อ่านได้ yaml"
   ]
  },
  {
   "attachments": {},
   "cell_type": "markdown",
   "metadata": {},
   "source": [
    "<img src=\"pic/controller_param.png\">"
   ]
  },
  {
   "attachments": {},
   "cell_type": "markdown",
   "metadata": {},
   "source": [
    "โดย tracker.py จะดึงค่า parameter ตอนสร้าง node"
   ]
  },
  {
   "attachments": {},
   "cell_type": "markdown",
   "metadata": {},
   "source": [
    "## Modifying kinematics server"
   ]
  },
  {
   "attachments": {},
   "cell_type": "markdown",
   "metadata": {},
   "source": [
    "สร้าง controller loop โดยทำ forward control ด้วยความเร็วเชิงเส้นของปลายแขนและทำ feedback control ด้วย joint config feedback"
   ]
  },
  {
   "attachments": {},
   "cell_type": "markdown",
   "metadata": {},
   "source": [
    "<img src=\"pic/control_loop.png\">"
   ]
  },
  {
   "attachments": {},
   "cell_type": "markdown",
   "metadata": {},
   "source": [
    "เมื่อได้ control loop แล้ว ผู้จัดทำได้สร้าง FSM เพื่อกำหนดสถานะของหุ่นยนต์โดยมีสถานะได้แก่\n",
    "1. SET_HOME ทำหน้าที่พาหุ่นยนต์ไปเริ่มต้นที่จุดที่ไม่เกิด singularity\n",
    "2. FORWARD ทำหน้าที่พาหุ่นยนต์ให้เดินตาม trajectory เมื่อถึงจุหมายจะ service call ไปที่ scheduler.py เพื่อให้ส่งตำแหน่งปลายทางกลับมา\n",
    "3. WAIT ทำหน้าที่คงตำแหน่งของหุ่นยนต์ระหว่าที่รอ trajectory ใหม่\n",
    "โดย method ตัวนี้คือ timer_callback ซึ่งมีความถี่ในการควบคุม 100 Hz"
   ]
  },
  {
   "attachments": {},
   "cell_type": "markdown",
   "metadata": {},
   "source": [
    "## Developing a generator"
   ]
  },
  {
   "attachments": {},
   "cell_type": "markdown",
   "metadata": {},
   "source": [
    "ในส่วน gererator.py ได้ใช้ ActionServer ในการคำนวณหา trajectory ที่เร็วที่สุดโดยกำหนด velocity contrain และ acceleration constrain เนื่อวจากใช้ while loop ในการหาเวลาที่เร็วที่สุดเราจึงใช้ callback ของ ActionServer ในการรอให้ while loop ทำงานเสร็จจะได้ไม่เกิดการ blocking เมื่อคำยวณเสร็จ ActionServer จะส่งค่าสัมประสิทและเวลาที่ใช่ในการเคลื่อนที่กลับไปที่ tracker.py"
   ]
  },
  {
   "attachments": {},
   "cell_type": "markdown",
   "metadata": {},
   "source": [
    "<img src=\"pic/action_structure.png\">"
   ]
  },
  {
   "attachments": {},
   "cell_type": "markdown",
   "metadata": {},
   "source": [
    "method สำหรับคำนวณ trajectory จะทำงานเมื่อ tracker.py ได้รับ service call จาก scheduler.py ตัวของ tracker.py จะ send_goal มาที่ generator.py"
   ]
  },
  {
   "attachments": {},
   "cell_type": "markdown",
   "metadata": {},
   "source": [
    "<img src=\"pic/trajectory_compute.png\">"
   ]
  },
  {
   "attachments": {},
   "cell_type": "markdown",
   "metadata": {},
   "source": [
    "## Developing a proximity detector"
   ]
  },
  {
   "attachments": {},
   "cell_type": "markdown",
   "metadata": {},
   "source": [
    "การที่จะให้หุ่นยนต์สามารถรับรู้ว่าถึงตำแหน่งแล้วเราจะใช้ event driven ก็คือการที่เราตรวจว่าปลายของ end effector ห่างจากจุดหายปลายทางตำกว่าค่า threshold แล้วจะถือว่าถึง โดยเราตั้งว่าถ้าปลายของ end effector ห่างจากจุดหายปลายทาง 1 มิลลิเมตร จะถือว่าถึงแล้ว โดยใช้ euclidian distant ในการวัดระยะ"
   ]
  },
  {
   "attachments": {},
   "cell_type": "markdown",
   "metadata": {},
   "source": [
    "<img src=\"pic/proximity.png\">"
   ]
  },
  {
   "attachments": {},
   "cell_type": "markdown",
   "metadata": {},
   "source": [
    "## Developing a scheduler"
   ]
  },
  {
   "attachments": {},
   "cell_type": "markdown",
   "metadata": {},
   "source": [
    "scheduler.py จะเก็บเส้นที่ใช้เขียนตัวอักษร โดยจะเช็กว่าถ้าหางเส้นที่แล้วคือหัวของเส้นถัดไปจะเขียนต่อ แต่ถ้าไม่จะทำการยกปากกา โดยจะส่งพิกัดใหม่ไปที่ tracker.py เมื่อมี service call มาจาก tracker.py โดยเก็บเส้นในรูปแบบหัวและหางของเส้น"
   ]
  },
  {
   "attachments": {},
   "cell_type": "markdown",
   "metadata": {},
   "source": [
    "<img src=\"pic/line.png\">"
   ]
  },
  {
   "attachments": {},
   "cell_type": "markdown",
   "metadata": {},
   "source": [
    "method ที่ใช้ในการเลือกว่าจะวาดต่อเส้นหรือยกปากกา"
   ]
  },
  {
   "attachments": {},
   "cell_type": "markdown",
   "metadata": {},
   "source": [
    "<img src=\"pic/optimize_line.png\">"
   ]
  }
 ],
 "metadata": {
  "kernelspec": {
   "display_name": "Python 3",
   "language": "python",
   "name": "python3"
  },
  "language_info": {
   "name": "python",
   "version": "3.8.10 (default, Jun 22 2022, 20:18:18) \n[GCC 9.4.0]"
  },
  "orig_nbformat": 4,
  "vscode": {
   "interpreter": {
    "hash": "916dbcbb3f70747c44a77c7bcd40155683ae19c65e1c03b4aa3499c5328201f1"
   }
  }
 },
 "nbformat": 4,
 "nbformat_minor": 2
}
