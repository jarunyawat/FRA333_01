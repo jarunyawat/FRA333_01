{
 "cells": [
  {
   "cell_type": "markdown",
   "metadata": {},
   "source": [
    "# Lab2 Report"
   ]
  },
  {
   "cell_type": "markdown",
   "metadata": {},
   "source": [
    "ผู้จัดทำได้ทำการสร้าง model ทางกลจำลองของ Serial manipulator 3 DOF โดยทั้ง 3 DOF เป็น revolute joint โดยได้สร้างแบบจำลองเพื่อนำไปแสดงผลใน rviz และหา forward kinematics และ inverse kinematic เพื่อนำไปใช้ในการระบุตำแหน่ง end effector ของหุ่นยนต์ โดย kinematics ของ Serial manipulator เป็นตรามรูปด้านร่าง"
   ]
  },
  {
   "cell_type": "markdown",
   "metadata": {},
   "source": [
    "## Kinematics Modeling of Serial Manipulator"
   ]
  },
  {
   "cell_type": "markdown",
   "metadata": {},
   "source": [
    "<center><img src=\"pic/robot_kinematic.png\" width=\"500\"></center>"
   ]
  },
  {
   "cell_type": "markdown",
   "metadata": {},
   "source": [
    "โดยสามรถสร้างตาราง DH ของหุ่นยนต์ ได้ดังนี้\n",
    "\n",
    "| i-1 | i | a | alpha | d | theta\n",
    "| --- | --- | --- | --- | --- | --- |\n",
    "| 0 | 1 | 0 | 0 | 150 | $$\\dfrac{\\pi}{2}$$ |\n",
    "| 1 | 2 | 0 | $$\\dfrac{\\pi}{2}$$  | 130 | 0 |\n",
    "| 2 | 3 | 390 | $$-\\pi$$ | 130 | 0 |\n",
    "\n",
    "จากนั้นทำการเขียน kinematics server เพื่อ publish ค่า jointState ไปให้กับ robot_state_publisher และสร้าง service 3 ตัว ได้แก่ 1.set_joint ทำหน้าที่ในการตั้งค่า joint configuration 2.get_pose ทำหน้าที่คืนค่าตำแหน่งของ end effector เทียบกับ base_link 3.solve_ik ทำหน้าที่ในการหา inverse kinematic จาก task space ไปเป็น joint configuration และกำหนด joint limit ของแต่ละ joint"
   ]
  },
  {
   "cell_type": "markdown",
   "metadata": {},
   "source": [
    "<center><img src=\"pic/init.png\" width=\"1000\"></center>"
   ]
  },
  {
   "cell_type": "markdown",
   "metadata": {},
   "source": [
    "callback function เมื่อมีการใช้ service set_joint โดยเครื่องหมายลบหน้า self.jointstate.position[1] เพื่อให้ทิศหมุนตรงกับ kinematic drawing"
   ]
  },
  {
   "cell_type": "markdown",
   "metadata": {},
   "source": [
    "<center><img src=\"pic/set_joint_callback.png\" width=\"1000\"></center>"
   ]
  },
  {
   "cell_type": "markdown",
   "metadata": {},
   "source": [
    "callback function เมื่อมีการใช้ service get_pose"
   ]
  },
  {
   "cell_type": "markdown",
   "metadata": {},
   "source": [
    "<center><img src=\"pic/get_pose_callback.png\" width=\"1000\"></center>"
   ]
  },
  {
   "cell_type": "markdown",
   "metadata": {},
   "source": [
    "## Forward Kinematics"
   ]
  },
  {
   "cell_type": "markdown",
   "metadata": {},
   "source": [
    "จากนั้นจึงสร้าง method ในการหาตำแหน่งของจุดจุดปลายโดยใช้ forward kinematics โดย q คือ joint configuration "
   ]
  },
  {
   "cell_type": "markdown",
   "metadata": {},
   "source": [
    "<center><img src=\"pic/fk.png\" width=\"1000\"></center>"
   ]
  },
  {
   "cell_type": "markdown",
   "metadata": {},
   "source": [
    "จากนั้นจึงสร้าง launch file เพื่อใช้ในการนำ CAD ของ Serial manipulator ไปจำลองใน rviz"
   ]
  },
  {
   "cell_type": "markdown",
   "metadata": {},
   "source": [
    "<center><img src=\"pic/cad_rviz.png\" width=\"1500\"></center>"
   ]
  },
  {
   "cell_type": "markdown",
   "metadata": {},
   "source": [
    "ทดลองใช้ set_joint โดย service มีโครงสร้าง\n",
    "\n",
    "sensor_msgs/JointState jointstate<br>\n",
    "---<br>\n",
    "geometry_msgs/Point taskspace<br>"
   ]
  },
  {
   "cell_type": "markdown",
   "metadata": {},
   "source": [
    "<center><img src=\"pic/set_joint.png\" width=\"1500\"></center>"
   ]
  },
  {
   "cell_type": "markdown",
   "metadata": {},
   "source": [
    "ทดลองใช้ get_pose โดย service มีโครงสร้าง<br>\n",
    "\n",
    "---<br>\n",
    "geometry_msgs/Point taskspace"
   ]
  },
  {
   "cell_type": "markdown",
   "metadata": {},
   "source": [
    "<center><img src=\"pic/get_pose.png\" width=\"1500\"></center>"
   ]
  },
  {
   "cell_type": "markdown",
   "metadata": {},
   "source": [
    "## Inverse Kinematics"
   ]
  },
  {
   "cell_type": "markdown",
   "metadata": {},
   "source": [
    "### Geometry analysis"
   ]
  },
  {
   "cell_type": "markdown",
   "metadata": {},
   "source": [
    "ในส่วนนี้ผู้จัดทำได้ทำการหา inverse kinematics โดยใช้วิธี geometry analysis เพื่อให้แปลง task space ที่ end effector มาเป็น joint configuration โดยจะหาได้จากความสัมพันธ์<br>\n",
    "$$\n",
    "q_{1} = atan2(y,x) - \\dfrac{\\pi}{2}\n",
    "$$\n",
    "$$\n",
    "q_{2} = atan2(s_{2},c_{2}) โดยที่ c_{2} = \\dfrac{x^{2}+y^{2}+z^{2}-l1^{2}-l2^{2}}{2*l1*l2}, s_{2} = {\\gamma}*\\sqrt{1-c2^{2}}\n",
    "$$\n",
    "$$\n",
    "q_{3} = atan2(z-150,\\sqrt{x^{2}+y^{2}}) - atan2(l2*s2,l1+l2*c2)\n",
    "$$\n",
    "โดยในส่วนของ $q_{1}$ จะเป็นส่วนที่หมุนฐานของหุ่นยนต์ในแนวระนาบขนานกับพื้น $q_{2}$และ$q_{3}$ จะเป็นส่วนที่หมุนแขนของหุ่นยนต์ตั้งฉากกับพื้น<br>\n",
    "ในส่วนของสมการ $q_{1}$ ต้องมีการลบด้วย $\\dfrac{\\pi}{2}$ เพราะที่ home configuration แขนหุ่นจะชี้ไปทางทิศ +y เทียบกับ base_link และ $q_{3}$ ในส่วนของ z ต้องลบด้วย 150 เพราะ joint อยู่เหนือจากพื้น 150 มิลลิเมตร และตรวจสอบว่าจุดที่ end effector ไปจะเกินระยะของแขนหนุ่หรือไม่ โดยคิดเทียบจาก joint ที่เชื่อต่อ link_1 และ link_2"
   ]
  },
  {
   "cell_type": "markdown",
   "metadata": {},
   "source": [
    "<center><img src=\"pic/ik.png\" width=\"1000\"></center>"
   ]
  },
  {
   "cell_type": "markdown",
   "metadata": {},
   "source": [
    "ทดลองใช้ solve_ik โดย service มีโครงสร้าง<br>\n",
    "\n",
    "geometry_msgs/Point taskspace<br>\n",
    "std_msgs/Bool elbowup<br>\n",
    "---<br>\n",
    "std_msgs/Bool status<br>\n",
    "\n",
    "ซึ่งเราจะกำหนด taskspace ซึ่งเป็นจุดปลายของ gripper และเลือกได้ส่าจะเป็น elbow-up หรือ elbow-down และถ้าสามารถหา inverse kinematics ได้ก็จะคืนค่า true กลับมา"
   ]
  },
  {
   "cell_type": "markdown",
   "metadata": {},
   "source": [
    "<center><img src=\"pic/solve_ik_elbowup.png\" width=\"1500\"></center>"
   ]
  },
  {
   "cell_type": "markdown",
   "metadata": {},
   "source": [
    "inverse kinematics แบบ elbow-up"
   ]
  },
  {
   "cell_type": "markdown",
   "metadata": {},
   "source": [
    "<center><img src=\"pic/solve_ik_elbowdown.png\" width=\"1500\"></center>"
   ]
  },
  {
   "cell_type": "markdown",
   "metadata": {},
   "source": [
    "inverse kinematics แบบ elbow-down"
   ]
  },
  {
   "cell_type": "markdown",
   "metadata": {},
   "source": [
    "### Scipy minimize"
   ]
  },
  {
   "cell_type": "markdown",
   "metadata": {},
   "source": [
    "การทดสอบหา inverse kinematics โดบใช้ scipy minimize ในการหาระยะการเคลื่อนที่ของ joint ที่น้อยที่สุด เพื่อให้ปลาย end effector ไปอยู่ในจุดที่ต้องการ โดยกำหนดระยะเชิงมุมต่ำสุดและสูงสุดของแต่ละ joint"
   ]
  },
  {
   "cell_type": "markdown",
   "metadata": {},
   "source": [
    "<center><img src=\"pic/boundary.png\" width=\"1000\"></center>"
   ]
  },
  {
   "cell_type": "markdown",
   "metadata": {},
   "source": [
    "จากนั้นกำหนด constrain ให้กับ joint ของ หุ่นยนต์ โดยมีความสัมพันธ์<br>\n",
    "$$\n",
    "g(q) = 0\n",
    "$$\n",
    "$$\n",
    "h(q) \\leq 0\n",
    "$$\n",
    "โดยที่ g คือ function forward kinematic ลบด้วย taskspace ที่กำหนดจาก service<br>\n",
    "     h คือ function ที่กำหนดไม่ให้ joint configuration ไม่เกิน limit ที่ตั้งไว้"
   ]
  },
  {
   "cell_type": "markdown",
   "metadata": {},
   "source": [
    "จากนั้นกำหนด cost function ที่จะใช้เป็นตัวบอกว่าตำแหน่งที่หามีความใกล้หรือไกลจากเป้าหมายเท่าไรซึ่งเราจะต้องหา ค่า joint configuration ให้ cost function มีค่าน้อยที่สุด"
   ]
  },
  {
   "cell_type": "markdown",
   "metadata": {},
   "source": [
    "<center><img src=\"pic/cost_func.png\" width=\"1000\"></center>"
   ]
  },
  {
   "cell_type": "markdown",
   "metadata": {},
   "source": [
    "<center><img src=\"pic/pose_xyz.png\" width=\"1000\"></center>"
   ]
  },
  {
   "cell_type": "markdown",
   "metadata": {},
   "source": [
    "จากนั้นปรับ function inverse kinematic ให้ใช้ minimize และในส่วน inequality equation นั้นมี bug ทำให้ไม่สามารถหา optimal solution ของ joint configuration ได้ จึงใช้ boundary แทน"
   ]
  },
  {
   "cell_type": "markdown",
   "metadata": {},
   "source": [
    "<center><img src=\"pic/minimize_ik.png\" width=\"1000\"></center>"
   ]
  },
  {
   "cell_type": "markdown",
   "metadata": {},
   "source": [
    "ในกรณีที่ Serial manipulator ไม่สามารถไปยัง taskspace ที่กำหนดได้ก็จะคืนค่า false กลับมา"
   ]
  },
  {
   "cell_type": "markdown",
   "metadata": {},
   "source": [
    "<center><img src=\"pic/taskspace_limit.png\" width=\"1000\"></center>"
   ]
  },
  {
   "cell_type": "markdown",
   "metadata": {},
   "source": [
    "หลังจากทดสอบ solve_ik พบว่ามีบางกรณีที่ solve_ik มีปัญหา ไม่สามารถหา optimal solution ของ joint configuration ได้เช่น ในกรณีจาก home configuration ไปที่ x:600 y:200 z:0 ไม่ได้ แต่ต้องไปที่ x:600 y:200 z:0 ก่อน แล้วถึงจะไป x:600 y:200 z:0 ได้ เนื่องจาก initial joint configuration ทำให้ตัว solver ไม่สามารถหา global minimum ได้"
   ]
  }
 ],
 "metadata": {
  "kernelspec": {
   "display_name": "Python 3.8.10 64-bit",
   "language": "python",
   "name": "python3"
  },
  "language_info": {
   "name": "python",
   "version": "3.8.10"
  },
  "orig_nbformat": 4,
  "vscode": {
   "interpreter": {
    "hash": "916dbcbb3f70747c44a77c7bcd40155683ae19c65e1c03b4aa3499c5328201f1"
   }
  }
 },
 "nbformat": 4,
 "nbformat_minor": 2
}
